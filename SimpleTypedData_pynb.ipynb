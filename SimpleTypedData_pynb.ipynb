{
  "nbformat": 4,
  "nbformat_minor": 0,
  "metadata": {
    "colab": {
      "provenance": [],
      "authorship_tag": "ABX9TyOdm1d/JKz8W1MM5nMDQO8c",
      "include_colab_link": true
    },
    "kernelspec": {
      "name": "python3",
      "display_name": "Python 3"
    },
    "language_info": {
      "name": "python"
    }
  },
  "cells": [
    {
      "cell_type": "markdown",
      "metadata": {
        "id": "view-in-github",
        "colab_type": "text"
      },
      "source": [
        "<a href=\"https://colab.research.google.com/github/slogen/snippets/blob/main/SimpleTypedData_pynb.ipynb\" target=\"_parent\"><img src=\"https://colab.research.google.com/assets/colab-badge.svg\" alt=\"Open In Colab\"/></a>"
      ]
    },
    {
      "cell_type": "code",
      "execution_count": 21,
      "metadata": {
        "colab": {
          "base_uri": "https://localhost:8080/"
        },
        "id": "7xuGsnpLx8Ac",
        "outputId": "1f543937-d580-4707-bfd8-783f1598fecc"
      },
      "outputs": [
        {
          "output_type": "stream",
          "name": "stdout",
          "text": [
            "Looking in indexes: https://pypi.org/simple, https://us-python.pkg.dev/colab-wheels/public/simple/\n",
            "Requirement already satisfied: pandera in /usr/local/lib/python3.8/dist-packages (0.13.4)\n",
            "Requirement already satisfied: wrapt in /usr/local/lib/python3.8/dist-packages (from pandera) (1.14.1)\n",
            "Requirement already satisfied: packaging>=20.0 in /usr/local/lib/python3.8/dist-packages (from pandera) (21.3)\n",
            "Requirement already satisfied: pandas>=1.2.0 in /usr/local/lib/python3.8/dist-packages (from pandera) (1.3.5)\n",
            "Requirement already satisfied: pydantic in /usr/local/lib/python3.8/dist-packages (from pandera) (1.10.2)\n",
            "Requirement already satisfied: typing-inspect>=0.6.0 in /usr/local/lib/python3.8/dist-packages (from pandera) (0.8.0)\n",
            "Requirement already satisfied: numpy>=1.19.0 in /usr/local/lib/python3.8/dist-packages (from pandera) (1.21.6)\n",
            "Requirement already satisfied: pyparsing!=3.0.5,>=2.0.2 in /usr/local/lib/python3.8/dist-packages (from packaging>=20.0->pandera) (3.0.9)\n",
            "Requirement already satisfied: pytz>=2017.3 in /usr/local/lib/python3.8/dist-packages (from pandas>=1.2.0->pandera) (2022.6)\n",
            "Requirement already satisfied: python-dateutil>=2.7.3 in /usr/local/lib/python3.8/dist-packages (from pandas>=1.2.0->pandera) (2.8.2)\n",
            "Requirement already satisfied: six>=1.5 in /usr/local/lib/python3.8/dist-packages (from python-dateutil>=2.7.3->pandas>=1.2.0->pandera) (1.15.0)\n",
            "Requirement already satisfied: typing-extensions>=3.7.4 in /usr/local/lib/python3.8/dist-packages (from typing-inspect>=0.6.0->pandera) (4.1.1)\n",
            "Requirement already satisfied: mypy-extensions>=0.3.0 in /usr/local/lib/python3.8/dist-packages (from typing-inspect>=0.6.0->pandera) (0.4.3)\n"
          ]
        }
      ],
      "source": [
        "pip install pandera # https://github.com/unionai-oss/pandera\n"
      ]
    },
    {
      "cell_type": "code",
      "source": [
        "\n",
        "import pandas as pd\n",
        "import pandera as pa\n"
      ],
      "metadata": {
        "id": "pDWttoXZycIw"
      },
      "execution_count": 68,
      "outputs": []
    },
    {
      "cell_type": "code",
      "source": [
        "#Let's pretend there is a CSV file with this content\n",
        "\n",
        "import io\n",
        "CSV=io.StringIO(\"\"\"\n",
        "Power,Scaled,State\n",
        "20,0.5,\"Ready\"\n",
        "100,0.0,\"Stopped\"\n",
        "\"\"\")\n",
        "\n",
        "from pandera.typing import Series\n",
        "class MyD(pa.SchemaModel):\n",
        "    Power: Series[int] = pa.Field(le=100)\n",
        "    Scaled: Series[float] = pa.Field(lt=1,ge=0)\n",
        "    State: Series[str] = pa.Field(notin=[\"Unknown\"])\n",
        "\n",
        "\n",
        "df = pd.read_csv(CSV)\n",
        "tdf = MyD(df)\n",
        "tdf.Scaled*tdf.Power"
      ],
      "metadata": {
        "colab": {
          "base_uri": "https://localhost:8080/"
        },
        "id": "Sqmwo7ilyNl7",
        "outputId": "a82a7fab-6ba6-4c2a-85e2-1bd9c80a8024"
      },
      "execution_count": 74,
      "outputs": [
        {
          "output_type": "execute_result",
          "data": {
            "text/plain": [
              "0    10.0\n",
              "1     0.0\n",
              "dtype: float64"
            ]
          },
          "metadata": {},
          "execution_count": 74
        }
      ]
    },
    {
      "cell_type": "code",
      "source": [
        "# Usage from Pre/Post (and possibly MainProcessor)\n",
        "\n",
        "def read_untyped(source):\n",
        "  # looks line \"inline\" CSV?\n",
        "  if isinstance(source, str) and \"\\n\" in source[:1000]: \n",
        "    import io\n",
        "    return pd.read_csv(io.StringIO(source))\n",
        "  # more options here\n",
        "  raise Exception(f'Unsupported source: \"{source}\"')\n",
        "\n",
        "# Documented interface to read data\n",
        "def read_typed(schema, source):\n",
        "  return schema(read_untyped(source))\n",
        "\n",
        "\n"
      ],
      "metadata": {
        "id": "vfHPtgYP2gqy"
      },
      "execution_count": 75,
      "outputs": []
    },
    {
      "cell_type": "code",
      "source": [
        "import unittest\n",
        "\n",
        "class ReadingValidation(unittest.TestCase):\n",
        "  def __init__(self, *args, **kwargs):\n",
        "    super().__init__(*args, **kwargs)\n",
        "    self._valid_in = \"\"\"\n",
        "Power,Scaled,State\n",
        "20,0.5,\"Ready\"\n",
        "100,0.0,\"Stopped\"\n",
        "    \"\"\"\n",
        "  def test_valid_inputs(self):\n",
        "    read_typed(MyD, self._valid_in)\n",
        "  def test_detect_type_error(self):\n",
        "    with (self.assertRaises(pa.errors.SchemaError)):\n",
        "      read_typed(MyD, self._valid_in.replace(\"20,\", \"20.0,\"))\n",
        "  def test_detect_missing_column(self):\n",
        "    with (self.assertRaises(pa.errors.SchemaError)):\n",
        "      read_typed(MyD, self._valid_in.replace(\"State\", \"xState\"))\n",
        "  def test_value_range_error(self):\n",
        "    with (self.assertRaises(pa.errors.SchemaError)):\n",
        "      read_typed(MyD, self._valid_in.replace(\"0.5\", \"1.0\"))\n",
        "\n",
        "\n",
        "if __name__ == \"__main__\":\n",
        "  unittest.main(argv=[''], verbosity=2, exit=False)\n"
      ],
      "metadata": {
        "colab": {
          "base_uri": "https://localhost:8080/"
        },
        "id": "4X-D1_5nAF3H",
        "outputId": "0ed78b93-5778-4553-bf81-fc3e92612d24"
      },
      "execution_count": 76,
      "outputs": [
        {
          "output_type": "stream",
          "name": "stderr",
          "text": [
            "test_detect_missing_column (__main__.ReadingValidation) ... ok\n",
            "test_detect_type_error (__main__.ReadingValidation) ... ok\n",
            "test_valid_inputs (__main__.ReadingValidation) ... ok\n",
            "test_value_range_error (__main__.ReadingValidation) ... ok\n",
            "\n",
            "----------------------------------------------------------------------\n",
            "Ran 4 tests in 0.031s\n",
            "\n",
            "OK\n"
          ]
        }
      ]
    }
  ]
}