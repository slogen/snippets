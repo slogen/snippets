{
  "nbformat": 4,
  "nbformat_minor": 0,
  "metadata": {
    "colab": {
      "provenance": [],
      "authorship_tag": "ABX9TyOQWSYZH1IUMDkZwW9N9xR+",
      "include_colab_link": true
    },
    "kernelspec": {
      "name": "python3",
      "display_name": "Python 3"
    },
    "language_info": {
      "name": "python"
    }
  },
  "cells": [
    {
      "cell_type": "markdown",
      "metadata": {
        "id": "view-in-github",
        "colab_type": "text"
      },
      "source": [
        "<a href=\"https://colab.research.google.com/github/slogen/snippets/blob/main/SimpleConfigTransform.ipynb\" target=\"_parent\"><img src=\"https://colab.research.google.com/assets/colab-badge.svg\" alt=\"Open In Colab\"/></a>"
      ]
    },
    {
      "cell_type": "code",
      "source": [
        "### Sample JSON decoded\n",
        "\n",
        "config = {\n",
        "    \"w\": \"$abspath/bar\",\n",
        "    \"x\": 1,\n",
        "    \"y\": [\"a\",\"b\",\"c\"],\n",
        "    \"z\": {\n",
        "        \"z1\": 1,\n",
        "        \"z2\": [\"z2.0\", \"z2.1\"],\n",
        "        \"z3\": {},\n",
        "        \"q\": \"some $abspath stuff\"\n",
        "    }\n",
        "}"
      ],
      "metadata": {
        "id": "ET-PKHRls5Zt"
      },
      "execution_count": 77,
      "outputs": []
    },
    {
      "cell_type": "code",
      "execution_count": 78,
      "metadata": {
        "id": "ykTR260Hg08f"
      },
      "outputs": [],
      "source": [
        "### Simple replacement\n",
        "\n",
        "from string import Template\n",
        "def g(ctx):\n",
        "  def f(c):\n",
        "    if    isinstance(c, dict): return dict((k,f(v)) for (k,v) in c.items())\n",
        "    elif  isinstance(c, list): return [f(v) for v in c]\n",
        "    elif  isinstance(c, str): return Template(c).substitute(**ctx)\n",
        "    else: return c\n",
        "  return f\n",
        "\n",
        "ctx = {\"abspath\": \"XXX\"}\n",
        "x = g(ctx)(config)\n",
        "\n",
        "# Does translation\n",
        "assert x['w'] == Template(config['w']).substitute(**ctx)\n",
        "assert x['z']['q'] == Template(config['z']['q']).substitute(**ctx)\n",
        "# Lookup through chain works\n",
        "assert x['z']['z2'][0] == config['z']['z2'][0]\n"
      ]
    },
    {
      "cell_type": "code",
      "source": [
        "### \"Inheriting\" configuration\n",
        "\n",
        "from typing_extensions import ChainMap\n",
        "def g(ctx):\n",
        "  def recurse(c, a):\n",
        "    if isinstance(c, dict): \n",
        "      a2 = a.new_child()\n",
        "      for (k,v) in c.items():\n",
        "        a2[k] = recurse(v, a2)\n",
        "      return a2\n",
        "    elif  isinstance(c, list): return [recurse(v, a) for v in c]\n",
        "    elif  isinstance(c, str): return Template(c).substitute(**ctx)\n",
        "    else: return c\n",
        "  def r(c): return recurse(c,ChainMap(ctx))\n",
        "  return r\n",
        "\n",
        "ctx = {\"abspath\": \"XXX\"}\n",
        "x = g(ctx)(config)\n",
        "\n",
        "# Does translation\n",
        "assert x['w'] == Template(config['w']).substitute(**ctx)\n",
        "assert x['z']['q'] == Template(config['z']['q']).substitute(**ctx)\n",
        "# Lookup through chain works\n",
        "assert x['z']['z2'][0] == config['z']['z2'][0]\n",
        "# Falls back to lookup further up chain\n",
        "assert x['z']['x'] == config['x']"
      ],
      "metadata": {
        "id": "i06o2fIEnCyL"
      },
      "execution_count": 79,
      "outputs": []
    },
    {
      "cell_type": "code",
      "source": [],
      "metadata": {
        "id": "wdjnv9fttYeL"
      },
      "execution_count": null,
      "outputs": []
    }
  ]
}